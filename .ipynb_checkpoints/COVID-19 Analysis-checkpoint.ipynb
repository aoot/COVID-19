{
 "cells": [
  {
   "cell_type": "code",
   "execution_count": 1,
   "metadata": {},
   "outputs": [],
   "source": [
    "import pandas as pd\n",
    "df_confirmed = pd.read_csv(\"./csse_covid_19_data/csse_covid_19_time_series/time_series_covid19_confirmed_global.csv\")\n",
    "df_death = df_confirmed = pd.read_csv(\"./csse_covid_19_data/csse_covid_19_time_series/time_series_covid19_deaths_global.csv\")\n",
    "df_recovered = df_confirmed = pd.read_csv(\"./csse_covid_19_data/csse_covid_19_time_series/time_series_covid19_recovered_global.csv\")"
   ]
  },
  {
   "cell_type": "code",
   "execution_count": 3,
   "metadata": {},
   "outputs": [
    {
     "name": "stdout",
     "output_type": "stream",
     "text": [
      "    Province/State      Country/Region       Lat        Long  1/22/20  \\\n",
      "0              NaN         Afghanistan  33.00000   65.000000        0   \n",
      "1              NaN             Albania  41.15330   20.168300        0   \n",
      "2              NaN             Algeria  28.03390    1.659600        0   \n",
      "3              NaN             Andorra  42.50630    1.521800        0   \n",
      "4              NaN              Angola -11.20270   17.873900        0   \n",
      "..             ...                 ...       ...         ...      ...   \n",
      "228            NaN             Vietnam  16.00000  108.000000        0   \n",
      "229            NaN              Zambia -15.41670   28.283300        0   \n",
      "230            NaN            Zimbabwe -20.00000   30.000000        0   \n",
      "231            NaN  West Bank and Gaza  31.95220   35.233200        0   \n",
      "232            NaN                Laos  19.85627  102.495496        0   \n",
      "\n",
      "     1/23/20  1/24/20  1/25/20  1/26/20  1/27/20  ...  3/16/20  3/17/20  \\\n",
      "0          0        0        0        0        0  ...        1        1   \n",
      "1          0        0        0        0        0  ...        0        0   \n",
      "2          0        0        0        0        0  ...       12       12   \n",
      "3          0        0        0        0        0  ...        1        1   \n",
      "4          0        0        0        0        0  ...        0        0   \n",
      "..       ...      ...      ...      ...      ...  ...      ...      ...   \n",
      "228        0        0        0        0        0  ...       16       16   \n",
      "229        0        0        0        0        0  ...        0        0   \n",
      "230        0        0        0        0        0  ...        0        0   \n",
      "231        0        0        0        0        0  ...        0        0   \n",
      "232        0        0        0        0        0  ...        0        0   \n",
      "\n",
      "     3/18/20  3/19/20  3/20/20  3/21/20  3/22/20  3/23/20  3/24/20  3/25/20  \n",
      "0          1        1        1        1        1        1        1        2  \n",
      "1          0        0        0        2        2        2       10       17  \n",
      "2         12       32       32       32       65       65       24       65  \n",
      "3          1        1        1        1        1        1        1        1  \n",
      "4          0        0        0        0        0        0        0        0  \n",
      "..       ...      ...      ...      ...      ...      ...      ...      ...  \n",
      "228       16       16       16       17       17       17       17       17  \n",
      "229        0        0        0        0        0        0        0        0  \n",
      "230        0        0        0        0        0        0        0        0  \n",
      "231        0        0       17       17       17       17       17       17  \n",
      "232        0        0        0        0        0        0        0        0  \n",
      "\n",
      "[233 rows x 68 columns]\n"
     ]
    }
   ],
   "source": [
    "print(df_confirmed)\n",
    "# print(df_death)\n",
    "# print(df_recovered)"
   ]
  }
 ],
 "metadata": {
  "kernelspec": {
   "display_name": "Python 3",
   "language": "python",
   "name": "python3"
  },
  "language_info": {
   "codemirror_mode": {
    "name": "ipython",
    "version": 3
   },
   "file_extension": ".py",
   "mimetype": "text/x-python",
   "name": "python",
   "nbconvert_exporter": "python",
   "pygments_lexer": "ipython3",
   "version": "3.6.10"
  }
 },
 "nbformat": 4,
 "nbformat_minor": 4
}
